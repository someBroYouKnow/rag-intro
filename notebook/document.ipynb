{
 "cells": [
  {
   "cell_type": "markdown",
   "id": "3b9f063d",
   "metadata": {},
   "source": [
    "### Data Ingestion "
   ]
  },
  {
   "cell_type": "code",
   "execution_count": 1,
   "id": "d65de02b",
   "metadata": {},
   "outputs": [],
   "source": [
    "### Document Structure \n",
    "\n",
    "from langchain_core.documents import Document"
   ]
  },
  {
   "cell_type": "code",
   "execution_count": 3,
   "id": "f8eb587d",
   "metadata": {},
   "outputs": [],
   "source": [
    "doc  = Document(\n",
    "    page_content='this is the main text content I am using for RAG',\n",
    "    metadata= {\n",
    "        \"source\": \"example.txt\",\n",
    "        \"pages\": 1,\n",
    "        \"author\":\"Batman\",\n",
    "        \"date_created\": \"2025-01-01\"\n",
    "    }\n",
    ")\n",
    "## This is helpful in applying filters to search things by , talking of metadata "
   ]
  },
  {
   "cell_type": "code",
   "execution_count": 5,
   "id": "4b779889",
   "metadata": {},
   "outputs": [],
   "source": [
    "## create a txt file \n",
    "import os \n",
    "os.makedirs(\"../data/text_files\", exist_ok=True)\n"
   ]
  },
  {
   "cell_type": "code",
   "execution_count": null,
   "id": "cb2ad537",
   "metadata": {},
   "outputs": [],
   "source": []
  }
 ],
 "metadata": {
  "kernelspec": {
   "display_name": "rag-intro",
   "language": "python",
   "name": "python3"
  },
  "language_info": {
   "codemirror_mode": {
    "name": "ipython",
    "version": 3
   },
   "file_extension": ".py",
   "mimetype": "text/x-python",
   "name": "python",
   "nbconvert_exporter": "python",
   "pygments_lexer": "ipython3",
   "version": "3.13.3"
  }
 },
 "nbformat": 4,
 "nbformat_minor": 5
}
