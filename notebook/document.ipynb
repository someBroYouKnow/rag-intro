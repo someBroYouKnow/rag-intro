{
 "cells": [
  {
   "cell_type": "markdown",
   "id": "3b9f063d",
   "metadata": {},
   "source": [
    "### Data Ingestion "
   ]
  },
  {
   "cell_type": "code",
   "execution_count": 1,
   "id": "d65de02b",
   "metadata": {},
   "outputs": [],
   "source": [
    "### Document Structure \n",
    "\n",
    "from langchain_core.documents import Document"
   ]
  },
  {
   "cell_type": "code",
   "execution_count": 3,
   "id": "f8eb587d",
   "metadata": {},
   "outputs": [],
   "source": [
    "doc  = Document(\n",
    "    page_content='this is the main text content I am using for RAG',\n",
    "    metadata= {\n",
    "        \"source\": \"example.txt\",\n",
    "        \"pages\": 1,\n",
    "        \"author\":\"Batman\",\n",
    "        \"date_created\": \"2025-01-01\"\n",
    "    }\n",
    ")\n",
    "## This is helpful in applying filters to search things by , talking of metadata "
   ]
  },
  {
   "cell_type": "code",
   "execution_count": 5,
   "id": "4b779889",
   "metadata": {},
   "outputs": [],
   "source": [
    "## create a txt file \n",
    "import os \n",
    "os.makedirs(\"../data/text_files\", exist_ok=True)\n"
   ]
  },
  {
   "cell_type": "code",
   "execution_count": 6,
   "id": "cb2ad537",
   "metadata": {},
   "outputs": [
    {
     "name": "stdout",
     "output_type": "stream",
     "text": [
      "✅ Sample text files created!\n"
     ]
    }
   ],
   "source": [
    "sample_texts={\n",
    "    \"../data/text_files/python_intro.txt\":\"\"\"Python Programming Introduction\n",
    "\n",
    "Python is a high-level, interpreted programming language known for its simplicity and readability.\n",
    "Created by Guido van Rossum and first released in 1991, Python has become one of the most popular\n",
    "programming languages in the world.\n",
    "\n",
    "Key Features:\n",
    "- Easy to learn and use\n",
    "- Extensive standard library\n",
    "- Cross-platform compatibility\n",
    "- Strong community support\n",
    "\n",
    "Python is widely used in web development, data science, artificial intelligence, and automation.\"\"\",\n",
    "    \n",
    "    \"../data/text_files/machine_learning.txt\": \"\"\"Machine Learning Basics\n",
    "\n",
    "Machine learning is a subset of artificial intelligence that enables systems to learn and improve\n",
    "from experience without being explicitly programmed. It focuses on developing computer programs\n",
    "that can access data and use it to learn for themselves.\n",
    "\n",
    "Types of Machine Learning:\n",
    "1. Supervised Learning: Learning with labeled data\n",
    "2. Unsupervised Learning: Finding patterns in unlabeled data\n",
    "3. Reinforcement Learning: Learning through rewards and penalties\n",
    "\n",
    "Applications include image recognition, speech processing, and recommendation systems\n",
    "    \n",
    "    \n",
    "    \"\"\"\n",
    "\n",
    "}\n",
    "\n",
    "for filepath,content in sample_texts.items():\n",
    "    with open(filepath,'w',encoding=\"utf-8\") as f:\n",
    "        f.write(content)\n",
    "\n",
    "print(\"✅ Sample text files created!\")"
   ]
  },
  {
   "cell_type": "code",
   "execution_count": 11,
   "id": "fede8bf3",
   "metadata": {},
   "outputs": [
    {
     "name": "stdout",
     "output_type": "stream",
     "text": [
      "[Document(metadata={'source': '../data/text_files/python_intro.txt'}, page_content='Python Programming Introduction\\n\\nPython is a high-level, interpreted programming language known for its simplicity and readability.\\nCreated by Guido van Rossum and first released in 1991, Python has become one of the most popular\\nprogramming languages in the world.\\n\\nKey Features:\\n- Easy to learn and use\\n- Extensive standard library\\n- Cross-platform compatibility\\n- Strong community support\\n\\nPython is widely used in web development, data science, artificial intelligence, and automation.')]\n"
     ]
    }
   ],
   "source": [
    "### TextLoader \n",
    "from langchain.document_loaders import TextLoader\n",
    "from langchain_community.document_loaders import TextLoader \n",
    "# This shenanigan is to use whatever is not deprecatedl. \n",
    "\n",
    "\n",
    "loader = TextLoader(\"../data/text_files/python_intro.txt\", encoding= \"utf-8\")\n",
    "#\n",
    "#If a class does not define a special __str__ method, Python falls back to __repr__.\n",
    "\n",
    "# Many libraries (including langchain) don’t bother implementing both, so str(loader) and repr(loader) return the same string.\n",
    "###\n",
    "document = loader.load()\n",
    "print(document)"
   ]
  },
  {
   "cell_type": "code",
   "execution_count": null,
   "id": "41200fe5",
   "metadata": {},
   "outputs": [
    {
     "name": "stderr",
     "output_type": "stream",
     "text": [
      "To log the progress of DirectoryLoader you need to install tqdm, `pip install tqdm`\n"
     ]
    },
    {
     "ename": "ImportError",
     "evalue": "To log the progress of DirectoryLoader you need to install tqdm, `pip install tqdm`",
     "output_type": "error",
     "traceback": [
      "\u001b[31m---------------------------------------------------------------------------\u001b[39m",
      "\u001b[31mModuleNotFoundError\u001b[39m                       Traceback (most recent call last)",
      "\u001b[36mFile \u001b[39m\u001b[32md:\\Code\\Learning\\AI\\rag-intro\\.venv\\Lib\\site-packages\\langchain_community\\document_loaders\\directory.py:159\u001b[39m, in \u001b[36mDirectoryLoader.lazy_load\u001b[39m\u001b[34m(self)\u001b[39m\n\u001b[32m    158\u001b[39m \u001b[38;5;28;01mtry\u001b[39;00m:\n\u001b[32m--> \u001b[39m\u001b[32m159\u001b[39m     \u001b[38;5;28;01mfrom\u001b[39;00m\u001b[38;5;250m \u001b[39m\u001b[34;01mtqdm\u001b[39;00m\u001b[38;5;250m \u001b[39m\u001b[38;5;28;01mimport\u001b[39;00m tqdm\n\u001b[32m    161\u001b[39m     pbar = tqdm(total=\u001b[38;5;28mlen\u001b[39m(items))\n",
      "\u001b[31mModuleNotFoundError\u001b[39m: No module named 'tqdm'",
      "\nDuring handling of the above exception, another exception occurred:\n",
      "\u001b[31mImportError\u001b[39m                               Traceback (most recent call last)",
      "\u001b[36mCell\u001b[39m\u001b[36m \u001b[39m\u001b[32mIn[14]\u001b[39m\u001b[32m, line 13\u001b[39m\n\u001b[32m      4\u001b[39m \u001b[38;5;66;03m## load all the text files from the dierctory \u001b[39;00m\n\u001b[32m      5\u001b[39m dir_loader = DirectoryLoader(\n\u001b[32m      6\u001b[39m     \u001b[33m\"\u001b[39m\u001b[33m../data/text_files\u001b[39m\u001b[33m\"\u001b[39m, \n\u001b[32m      7\u001b[39m     glob= \u001b[33m\"\u001b[39m\u001b[33m**/*.txt\u001b[39m\u001b[33m\"\u001b[39m,\n\u001b[32m   (...)\u001b[39m\u001b[32m     10\u001b[39m     show_progress= \u001b[38;5;28;01mTrue\u001b[39;00m\n\u001b[32m     11\u001b[39m )\n\u001b[32m---> \u001b[39m\u001b[32m13\u001b[39m \u001b[43mdir_loader\u001b[49m\u001b[43m.\u001b[49m\u001b[43mload\u001b[49m\u001b[43m(\u001b[49m\u001b[43m)\u001b[49m\n",
      "\u001b[36mFile \u001b[39m\u001b[32md:\\Code\\Learning\\AI\\rag-intro\\.venv\\Lib\\site-packages\\langchain_community\\document_loaders\\directory.py:117\u001b[39m, in \u001b[36mDirectoryLoader.load\u001b[39m\u001b[34m(self)\u001b[39m\n\u001b[32m    115\u001b[39m \u001b[38;5;28;01mdef\u001b[39;00m\u001b[38;5;250m \u001b[39m\u001b[34mload\u001b[39m(\u001b[38;5;28mself\u001b[39m) -> List[Document]:\n\u001b[32m    116\u001b[39m \u001b[38;5;250m    \u001b[39m\u001b[33;03m\"\"\"Load documents.\"\"\"\u001b[39;00m\n\u001b[32m--> \u001b[39m\u001b[32m117\u001b[39m     \u001b[38;5;28;01mreturn\u001b[39;00m \u001b[38;5;28;43mlist\u001b[39;49m\u001b[43m(\u001b[49m\u001b[38;5;28;43mself\u001b[39;49m\u001b[43m.\u001b[49m\u001b[43mlazy_load\u001b[49m\u001b[43m(\u001b[49m\u001b[43m)\u001b[49m\u001b[43m)\u001b[49m\n",
      "\u001b[36mFile \u001b[39m\u001b[32md:\\Code\\Learning\\AI\\rag-intro\\.venv\\Lib\\site-packages\\langchain_community\\document_loaders\\directory.py:170\u001b[39m, in \u001b[36mDirectoryLoader.lazy_load\u001b[39m\u001b[34m(self)\u001b[39m\n\u001b[32m    168\u001b[39m             logger.warning(e)\n\u001b[32m    169\u001b[39m         \u001b[38;5;28;01melse\u001b[39;00m:\n\u001b[32m--> \u001b[39m\u001b[32m170\u001b[39m             \u001b[38;5;28;01mraise\u001b[39;00m \u001b[38;5;167;01mImportError\u001b[39;00m(\n\u001b[32m    171\u001b[39m                 \u001b[33m\"\u001b[39m\u001b[33mTo log the progress of DirectoryLoader \u001b[39m\u001b[33m\"\u001b[39m\n\u001b[32m    172\u001b[39m                 \u001b[33m\"\u001b[39m\u001b[33myou need to install tqdm, \u001b[39m\u001b[33m\"\u001b[39m\n\u001b[32m    173\u001b[39m                 \u001b[33m\"\u001b[39m\u001b[33m`pip install tqdm`\u001b[39m\u001b[33m\"\u001b[39m\n\u001b[32m    174\u001b[39m             )\n\u001b[32m    176\u001b[39m \u001b[38;5;28;01mif\u001b[39;00m \u001b[38;5;28mself\u001b[39m.use_multithreading:\n\u001b[32m    177\u001b[39m     futures = []\n",
      "\u001b[31mImportError\u001b[39m: To log the progress of DirectoryLoader you need to install tqdm, `pip install tqdm`"
     ]
    }
   ],
   "source": [
    "### Directory loader \n",
    "from langchain_community.document_loaders import DirectoryLoader\n",
    "\n",
    "## load all the text files from the dierctory \n",
    "dir_loader = DirectoryLoader(\n",
    "    \"../data/text_files\", \n",
    "    glob= \"**/*.txt\",\n",
    "    loader_cls = TextLoader, ### loader class to use \n",
    "    loader_kwargs = {'encoding': \"utf-8\"}, \n",
    "    show_progress= False\n",
    ")\n",
    "\n",
    "dir_loader.load()"
   ]
  }
 ],
 "metadata": {
  "kernelspec": {
   "display_name": "rag-intro",
   "language": "python",
   "name": "python3"
  },
  "language_info": {
   "codemirror_mode": {
    "name": "ipython",
    "version": 3
   },
   "file_extension": ".py",
   "mimetype": "text/x-python",
   "name": "python",
   "nbconvert_exporter": "python",
   "pygments_lexer": "ipython3",
   "version": "3.13.3"
  }
 },
 "nbformat": 4,
 "nbformat_minor": 5
}
